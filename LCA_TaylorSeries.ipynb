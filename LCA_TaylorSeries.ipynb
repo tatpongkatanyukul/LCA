{
  "nbformat": 4,
  "nbformat_minor": 0,
  "metadata": {
    "colab": {
      "provenance": []
    },
    "kernelspec": {
      "name": "python3",
      "display_name": "Python 3"
    },
    "language_info": {
      "name": "python"
    }
  },
  "cells": [
    {
      "cell_type": "markdown",
      "source": [
        "Taylor series"
      ],
      "metadata": {
        "id": "ufZ8-6_SGoGb"
      }
    },
    {
      "cell_type": "code",
      "execution_count": null,
      "metadata": {
        "id": "58J6E1mqGm_w"
      },
      "outputs": [],
      "source": [
        "import numpy as np\n",
        "from matplotlib import pyplot as plt"
      ]
    },
    {
      "cell_type": "markdown",
      "source": [
        "$f(x) = x^2 + 2 x + 8$\n",
        "\n",
        "At a = 0,\n",
        "\n",
        "$$\n",
        "f(x) = f(0) + f'(0) x + f''(0) x^2/2 + f'''(0) x^3/6\n",
        "$$\n",
        "\n",
        "$$\n",
        "= 8 + (2 x + 2) x + (2) x^2/2 + 0 x^3/6\n",
        "$$\n",
        "\n",
        "$$\n",
        "= 8 + (2 x + 2) x + (2) x^2/2 + 0 x^3/6\n",
        "$$\n",
        "\n"
      ],
      "metadata": {
        "id": "bLAhDb9tGyXC"
      }
    },
    {
      "cell_type": "code",
      "source": [
        "np.math.factorial(4)"
      ],
      "metadata": {
        "colab": {
          "base_uri": "https://localhost:8080/"
        },
        "id": "KzMVQ0YdGvrl",
        "outputId": "f2ac2979-6697-410b-e839-677d780c62b4"
      },
      "execution_count": null,
      "outputs": [
        {
          "output_type": "execute_result",
          "data": {
            "text/plain": [
              "24"
            ]
          },
          "metadata": {},
          "execution_count": 5
        }
      ]
    },
    {
      "cell_type": "code",
      "source": [
        "def factorial(n):\n",
        "  f = 1\n",
        "  for i in range(1, n+1):\n",
        "    f *= i\n",
        "\n",
        "  return f"
      ],
      "metadata": {
        "id": "BlncmDsVTYKo"
      },
      "execution_count": null,
      "outputs": []
    },
    {
      "cell_type": "code",
      "source": [
        "factorial(0)"
      ],
      "metadata": {
        "colab": {
          "base_uri": "https://localhost:8080/"
        },
        "id": "5aScn2fbUM_j",
        "outputId": "022230f4-29d1-4cc9-a84f-cd5b9e334d89"
      },
      "execution_count": null,
      "outputs": [
        {
          "output_type": "execute_result",
          "data": {
            "text/plain": [
              "1"
            ]
          },
          "metadata": {},
          "execution_count": 7
        }
      ]
    },
    {
      "cell_type": "code",
      "source": [
        "\n",
        "for i in range(8):\n",
        "  print('i=', i, '; factorial =', factorial(i))"
      ],
      "metadata": {
        "colab": {
          "base_uri": "https://localhost:8080/"
        },
        "id": "cbbcBBb7UQdw",
        "outputId": "7aba3001-0d82-4e2f-e855-45427d3b2ed7"
      },
      "execution_count": null,
      "outputs": [
        {
          "output_type": "stream",
          "name": "stdout",
          "text": [
            "i= 0 ; factorial = 1\n",
            "i= 1 ; factorial = 1\n",
            "i= 2 ; factorial = 2\n",
            "i= 3 ; factorial = 6\n",
            "i= 4 ; factorial = 24\n",
            "i= 5 ; factorial = 120\n",
            "i= 6 ; factorial = 720\n",
            "i= 7 ; factorial = 5040\n"
          ]
        }
      ]
    },
    {
      "cell_type": "code",
      "source": [
        "np.math.factorial(12)"
      ],
      "metadata": {
        "colab": {
          "base_uri": "https://localhost:8080/"
        },
        "id": "fR9WKQ-YNIg3",
        "outputId": "26af0117-2566-4126-83ff-6e799ab91d12"
      },
      "execution_count": null,
      "outputs": [
        {
          "output_type": "execute_result",
          "data": {
            "text/plain": [
              "479001600"
            ]
          },
          "metadata": {},
          "execution_count": 73
        }
      ]
    },
    {
      "cell_type": "code",
      "source": [
        "def taylor_sin0(x, K):\n",
        "  sterm = 0\n",
        "  for k in range(0, K+1):\n",
        "    if k % 2 == 0:\n",
        "      continue\n",
        "\n",
        "    sterm += (-1)**((k-1)/2) * x**k/factorial(k)\n",
        "\n",
        "  return sterm"
      ],
      "metadata": {
        "id": "CpSi8QsCMcXr"
      },
      "execution_count": null,
      "outputs": []
    },
    {
      "cell_type": "code",
      "source": [
        "for x in [0, np.pi/6, np.pi/4, np.pi/3, np.pi/2, np.pi, np.pi*2]:\n",
        "  gt = np.sin(x)\n",
        "  appx3 = taylor_sin0(x, 3)\n",
        "\n",
        "  appx10 = taylor_sin0(x, 10)\n",
        "\n",
        "  diff3 = gt - appx3\n",
        "  diff10 = gt - appx10\n",
        "\n",
        "  print(gt, appx3, appx10, ':', diff3, diff10)"
      ],
      "metadata": {
        "colab": {
          "base_uri": "https://localhost:8080/"
        },
        "id": "NrV44CuXUhnR",
        "outputId": "40347a96-ddf1-44a7-b403-3c1a288abced"
      },
      "execution_count": null,
      "outputs": [
        {
          "output_type": "stream",
          "name": "stdout",
          "text": [
            "0.0 0.0 0.0 0.0 0.0\n",
            "0.49999999999999994 0.49967417939436376 0.5000000000202799 0.00032582060563618453 -2.0279944390466653e-11\n",
            "0.7071067811865475 0.7046526512091675 0.7071067829368671 0.0024541299773799263 -1.7503196669821364e-09\n",
            "0.8660254037844386 0.8558007815651173 0.8660254450997811 0.0102246222193213 -4.131534248053015e-08\n",
            "1.0 0.9248322292886504 1.0000035425842861 0.07516777071134961 -3.542584286142514e-06\n",
            "1.2246467991473532e-16 -2.0261201264601763 0.006925270707505135 2.0261201264601763 -0.006925270707505013\n",
            "-2.4492935982947064e-16 -35.05851693322017 11.899566534691147 35.05851693322017 -11.899566534691147\n"
          ]
        }
      ]
    },
    {
      "cell_type": "code",
      "source": [
        "theta = np.linspace(-np.pi, np.pi, num=500)\n",
        "\n",
        "plt.plot(theta, np.sin(theta), 'r', linewidth=4)\n",
        "plt.plot(theta, taylor_sin0(theta, 1), 'y--')\n",
        "plt.plot(theta, taylor_sin0(theta, 3), 'g--')\n",
        "plt.plot(theta, taylor_sin0(theta, 5), 'c--')\n",
        "plt.plot(theta, taylor_sin0(theta, 7), 'b--')\n",
        "\n",
        "plt.legend(['sine', 'taylor: k=1', 'taylor: k=3', 'taylor: k=5', 'taylor: k=7'],\n",
        "           loc='best')\n",
        "\n",
        "plt.xlabel('x')\n",
        "plt.ylabel('f')\n",
        "plt.title('Taylor series at a=0')"
      ],
      "metadata": {
        "colab": {
          "base_uri": "https://localhost:8080/",
          "height": 312
        },
        "id": "fxsWWPe1b1za",
        "outputId": "662d2a3c-f08e-4255-9b95-b151cca6fc97"
      },
      "execution_count": null,
      "outputs": [
        {
          "output_type": "execute_result",
          "data": {
            "text/plain": [
              "Text(0.5, 1.0, 'Taylor series at a=0')"
            ]
          },
          "metadata": {},
          "execution_count": 44
        },
        {
          "output_type": "display_data",
          "data": {
            "text/plain": [
              "<Figure size 432x288 with 1 Axes>"
            ],
            "image/png": "[encoded data removed]"
          },
          "metadata": {
            "needs_background": "light"
          }
        }
      ]
    },
    {
      "cell_type": "code",
      "source": [
        "def taylor_sin_halfpi(x, K):\n",
        "  sterm = 0\n",
        "  xd = x - np.pi/2\n",
        "  for k in range(0, K+1):\n",
        "    if k % 2 == 1:\n",
        "      continue\n",
        "\n",
        "    sterm += (-1)**(k/2) * xd**k/factorial(k)\n",
        "\n",
        "  return sterm"
      ],
      "metadata": {
        "id": "53fz4s8RgPmM"
      },
      "execution_count": null,
      "outputs": []
    },
    {
      "cell_type": "code",
      "source": [
        "np.pi"
      ],
      "metadata": {
        "colab": {
          "base_uri": "https://localhost:8080/"
        },
        "id": "wyJUNPSiSxIK",
        "outputId": "e435f872-7e51-4f4e-d64a-fcbdbbd6fc80"
      },
      "execution_count": null,
      "outputs": [
        {
          "output_type": "execute_result",
          "data": {
            "text/plain": [
              "3.141592653589793"
            ]
          },
          "metadata": {},
          "execution_count": 78
        }
      ]
    },
    {
      "cell_type": "code",
      "source": [
        "for x in [0, np.pi/6, np.pi/4, np.pi/3, np.pi/2, np.pi, np.pi*2]:\n",
        "  gt = np.sin(x)\n",
        "  appx3 = taylor_sin_halfpi(x, 3)\n",
        "\n",
        "  appx10 = taylor_sin_halfpi(x, 10)\n",
        "\n",
        "  diff3 = gt - appx3\n",
        "  diff10 = gt - appx10\n",
        "\n",
        "  print(gt, appx3, appx10, ':', diff3, diff10)"
      ],
      "metadata": {
        "colab": {
          "base_uri": "https://localhost:8080/"
        },
        "id": "uA6s3c_ygnnV",
        "outputId": "5e15ea72-39a7-4364-991b-a29f13c5d2d4"
      },
      "execution_count": null,
      "outputs": [
        {
          "output_type": "stream",
          "name": "stdout",
          "text": [
            "0.0 -0.23370055013616975 -4.6476600836607633e-07 : 0.23370055013616975 4.6476600836607633e-07\n",
            "0.49999999999999994 0.4516886443839244 0.4999999963909431 : 0.048311355616075524 3.609056831166413e-09\n",
            "0.7071067811865475 0.6915748624659576 0.7071067810719247 : 0.015531918720589899 1.1462275573137504e-10\n",
            "0.8660254037844386 0.8629221610959811 0.8660254037835534 : 0.0031032426884575193 8.851808175336373e-13\n",
            "1.0 1.0 1.0 : 0.0 0.0\n",
            "1.2246467991473532e-16 -0.23370055013616975 -4.6476600836607633e-07 : 0.23370055013616986 4.64766008488541e-07\n",
            "-2.4492935982947064e-16 -10.103304951225528 -0.22244102459032433 : 10.103304951225528 0.22244102459032408\n"
          ]
        }
      ]
    },
    {
      "cell_type": "code",
      "source": [
        "theta = np.linspace(-np.pi, 2*np.pi, num=500)\n",
        "\n",
        "plt.plot(theta, np.sin(theta), 'r', linewidth=4)\n",
        "plt.plot(theta, taylor_sin_halfpi(theta, 1), 'y--')\n",
        "plt.plot(theta, taylor_sin_halfpi(theta, 3), 'g--')\n",
        "plt.plot(theta, taylor_sin_halfpi(theta, 5), 'c--')\n",
        "plt.plot(theta, taylor_sin_halfpi(theta, 7), 'b--')\n",
        "\n",
        "plt.legend(['sine', 'taylor: k=1', 'taylor: k=3', 'taylor: k=5', 'taylor: k=7'],\n",
        "           loc='best')\n",
        "\n",
        "plt.xlabel('x')\n",
        "plt.ylabel('f')\n",
        "plt.title('Taylor series at a=0')"
      ],
      "metadata": {
        "colab": {
          "base_uri": "https://localhost:8080/",
          "height": 312
        },
        "id": "oAYXHBHLhMFP",
        "outputId": "fea3bcf4-8fb6-46ad-8e29-53affdc36458"
      },
      "execution_count": null,
      "outputs": [
        {
          "output_type": "execute_result",
          "data": {
            "text/plain": [
              "Text(0.5, 1.0, 'Taylor series at a=0')"
            ]
          },
          "metadata": {},
          "execution_count": 77
        },
        {
          "output_type": "display_data",
          "data": {
            "text/plain": [
              "<Figure size 432x288 with 1 Axes>"
            ],
            "image/png": "[encoded data removed]"
          },
          "metadata": {
            "needs_background": "light"
          }
        }
      ]
    },
    {
      "cell_type": "code",
      "source": [
        "theta = np.linspace(-np.pi, 1.5*np.pi, num=500)\n",
        "\n",
        "k = 3\n",
        "\n",
        "plt.plot(theta, np.sin(theta), 'r', linewidth=4)\n",
        "plt.plot(theta, taylor_sin0(theta, k), 'b--')\n",
        "plt.plot(theta, taylor_sin_halfpi(theta, k), 'g-.')\n",
        "\n",
        "plt.legend(['sine', 'taylor at 0', 'taylor at pi/2'],\n",
        "           loc='best')\n",
        "\n",
        "plt.xlabel('x')\n",
        "plt.ylabel('f')\n",
        "plt.title('Taylor series at a=0 and a=pi/2')"
      ],
      "metadata": {
        "colab": {
          "base_uri": "https://localhost:8080/",
          "height": 312
        },
        "id": "Lsf86hRDiV0k",
        "outputId": "2ddd96bc-ffe1-4c1a-89cd-330c01302724"
      },
      "execution_count": null,
      "outputs": [
        {
          "output_type": "execute_result",
          "data": {
            "text/plain": [
              "Text(0.5, 1.0, 'Taylor series at a=0 and a=pi/2')"
            ]
          },
          "metadata": {},
          "execution_count": 57
        },
        {
          "output_type": "display_data",
          "data": {
            "text/plain": [
              "<Figure size 432x288 with 1 Axes>"
            ],
            "image/png": "[encoded data removed]"
          },
          "metadata": {
            "needs_background": "light"
          }
        }
      ]
    },
    {
      "cell_type": "code",
      "source": [],
      "metadata": {
        "id": "NCIi0awH2Fqy"
      },
      "execution_count": null,
      "outputs": []
    },
    {
      "cell_type": "code",
      "source": [
        "    A = np.array([[1, 2, 3], [-1, 0, 4]])\n",
        "    B = np.array([[10, 20], [5, -2], [7, 9]])\n",
        "    M = np.array([[8], [6]])\n",
        "\n"
      ],
      "metadata": {
        "id": "W5rGD9lA1yIe"
      },
      "execution_count": null,
      "outputs": []
    },
    {
      "cell_type": "code",
      "source": [
        "np.dot(A,B)"
      ],
      "metadata": {
        "colab": {
          "base_uri": "https://localhost:8080/"
        },
        "id": "kD1olmzU16qd",
        "outputId": "b5537594-1b15-4da5-c21d-1cc0499fc12d"
      },
      "execution_count": null,
      "outputs": [
        {
          "output_type": "execute_result",
          "data": {
            "text/plain": [
              "array([[41, 43],\n",
              "       [18, 16]])"
            ]
          },
          "metadata": {},
          "execution_count": 59
        }
      ]
    },
    {
      "cell_type": "code",
      "source": [
        "np.dot(B,A)"
      ],
      "metadata": {
        "colab": {
          "base_uri": "https://localhost:8080/"
        },
        "id": "ul79k8jK2AsB",
        "outputId": "374d54e5-1527-4d0f-eadb-d52e9e0ef160"
      },
      "execution_count": null,
      "outputs": [
        {
          "output_type": "execute_result",
          "data": {
            "text/plain": [
              "array([[-10,  20, 110],\n",
              "       [  7,  10,   7],\n",
              "       [ -2,  14,  57]])"
            ]
          },
          "metadata": {},
          "execution_count": 60
        }
      ]
    },
    {
      "cell_type": "code",
      "source": [
        "np.dot(A,M)"
      ],
      "metadata": {
        "colab": {
          "base_uri": "https://localhost:8080/",
          "height": 200
        },
        "id": "cLYFCABP2GTq",
        "outputId": "cafe2ee3-ec83-47a1-c7b6-70cef2c000b1"
      },
      "execution_count": null,
      "outputs": [
        {
          "output_type": "error",
          "ename": "ValueError",
          "evalue": "ignored",
          "traceback": [
            "\u001b[0;31m---------------------------------------------------------------------------\u001b[0m",
            "\u001b[0;31mValueError\u001b[0m                                Traceback (most recent call last)",
            "\u001b[0;32m<ipython-input-61-0359b58a09c8>\u001b[0m in \u001b[0;36m<module>\u001b[0;34m\u001b[0m\n\u001b[0;32m----> 1\u001b[0;31m \u001b[0mnp\u001b[0m\u001b[0;34m.\u001b[0m\u001b[0mdot\u001b[0m\u001b[0;34m(\u001b[0m\u001b[0mA\u001b[0m\u001b[0;34m,\u001b[0m\u001b[0mM\u001b[0m\u001b[0;34m)\u001b[0m\u001b[0;34m\u001b[0m\u001b[0;34m\u001b[0m\u001b[0m\n\u001b[0m",
            "\u001b[0;32m<__array_function__ internals>\u001b[0m in \u001b[0;36mdot\u001b[0;34m(*args, **kwargs)\u001b[0m\n",
            "\u001b[0;31mValueError\u001b[0m: shapes (2,3) and (2,1) not aligned: 3 (dim 1) != 2 (dim 0)"
          ]
        }
      ]
    },
    {
      "cell_type": "code",
      "source": [
        "np.dot(B,M)"
      ],
      "metadata": {
        "colab": {
          "base_uri": "https://localhost:8080/"
        },
        "id": "Ir5xXnQ52Ik2",
        "outputId": "6acec685-0ece-44da-b47a-542e1001e464"
      },
      "execution_count": null,
      "outputs": [
        {
          "output_type": "execute_result",
          "data": {
            "text/plain": [
              "array([[200],\n",
              "       [ 28],\n",
              "       [110]])"
            ]
          },
          "metadata": {},
          "execution_count": 62
        }
      ]
    },
    {
      "cell_type": "code",
      "source": [
        "-21-28+50"
      ],
      "metadata": {
        "colab": {
          "base_uri": "https://localhost:8080/"
        },
        "id": "ztTl99W-7QU5",
        "outputId": "79ac7742-e308-4df3-c8de-a6cf06f7205e"
      },
      "execution_count": null,
      "outputs": [
        {
          "output_type": "execute_result",
          "data": {
            "text/plain": [
              "1"
            ]
          },
          "metadata": {},
          "execution_count": 63
        }
      ]
    },
    {
      "cell_type": "code",
      "source": [
        "a = np.array([[3,4,5],[1,-1,0],[8,2,7]])"
      ],
      "metadata": {
        "id": "unSiQnn77ZCG"
      },
      "execution_count": null,
      "outputs": []
    },
    {
      "cell_type": "code",
      "source": [
        "np.linalg.det(a)"
      ],
      "metadata": {
        "colab": {
          "base_uri": "https://localhost:8080/"
        },
        "id": "S1BgwnhN7ena",
        "outputId": "d2d4575d-c8c0-4243-cfb4-a8da1db6144e"
      },
      "execution_count": null,
      "outputs": [
        {
          "output_type": "execute_result",
          "data": {
            "text/plain": [
              "1.0000000000000018"
            ]
          },
          "metadata": {},
          "execution_count": 67
        }
      ]
    },
    {
      "cell_type": "code",
      "source": [
        "b = np.array([[1, 2, 3, 4], [-1, 0, 0.5, 9], [0, -6, 0.7, 0.5], [4, 4, 2, 1]])\n",
        "b.shape"
      ],
      "metadata": {
        "colab": {
          "base_uri": "https://localhost:8080/"
        },
        "id": "Kh2-pbDC_nEL",
        "outputId": "d250f0f2-a5af-419a-ed86-d6ab650da089"
      },
      "execution_count": null,
      "outputs": [
        {
          "output_type": "execute_result",
          "data": {
            "text/plain": [
              "(4, 4)"
            ]
          },
          "metadata": {},
          "execution_count": 71
        }
      ]
    },
    {
      "cell_type": "code",
      "source": [
        "\n",
        "np.linalg.det(b)"
      ],
      "metadata": {
        "colab": {
          "base_uri": "https://localhost:8080/"
        },
        "id": "yr7fuI7J_c1R",
        "outputId": "2cb159e0-77d8-49b3-fec0-a4847ec7035e"
      },
      "execution_count": null,
      "outputs": [
        {
          "output_type": "execute_result",
          "data": {
            "text/plain": [
              "483.4000000000001"
            ]
          },
          "metadata": {},
          "execution_count": 72
        }
      ]
    },
    {
      "cell_type": "code",
      "source": [
        "for i in [0, 1, 2, 5]:\n",
        "  print(np.exp(i))"
      ],
      "metadata": {
        "colab": {
          "base_uri": "https://localhost:8080/"
        },
        "id": "2VmgwLISYkw3",
        "outputId": "7937a368-14b1-4d7b-d1c0-fafdea4de83b"
      },
      "execution_count": null,
      "outputs": [
        {
          "output_type": "stream",
          "name": "stdout",
          "text": [
            "1.0\n",
            "2.718281828459045\n",
            "7.38905609893065\n",
            "148.4131591025766\n"
          ]
        }
      ]
    },
    {
      "cell_type": "code",
      "source": [
        "D = np.array([[-7, 4, 17], [4, 6, 0], [-3, 2, -17]])"
      ],
      "metadata": {
        "id": "YeSUHnb5c-t7"
      },
      "execution_count": null,
      "outputs": []
    },
    {
      "cell_type": "code",
      "source": [
        "np.linalg.det(D)"
      ],
      "metadata": {
        "colab": {
          "base_uri": "https://localhost:8080/"
        },
        "id": "aWlHXSzwc-cV",
        "outputId": "8d5636b6-5fee-4959-e8ce-1ff868e56d97"
      },
      "execution_count": null,
      "outputs": [
        {
          "output_type": "execute_result",
          "data": {
            "text/plain": [
              "1427.9999999999998"
            ]
          },
          "metadata": {},
          "execution_count": 82
        }
      ]
    },
    {
      "cell_type": "markdown",
      "source": [
        "# Euler\n",
        "\n",
        "Steve Brunton's Taylor Series of the Exponential Function and Euler's Formula!"
      ],
      "metadata": {
        "id": "TLy5pnGS269F"
      }
    },
    {
      "cell_type": "markdown",
      "source": [
        "Taylor series example\n",
        "\n",
        "$f(x) = e^x$\n",
        "\n",
        "$e^x = 1 + x + \\frac{x^2}{2!} + \\frac{x^3}{3!} + \\frac{x^4}{4!} + \\ldots + $ h.o.t. (higher order terms) $=\\sum_{k=0}^\\infty \\frac{x^k}{k!}$\n",
        "\n"
      ],
      "metadata": {
        "id": "ttrFbgDt3ChK"
      }
    },
    {
      "cell_type": "markdown",
      "source": [
        "\\begin{align}\n",
        "e^{i x} &= 1 + i x + \\frac{(i x)^2}{2!} + \\frac{(i x)^3}{3!} + \\frac{(i x)^4}{4!} + \\frac{(i x)^5}{5!} + \\ldots\n",
        "\\\\\n",
        "&= 1 + i x  - \\frac{x^2}{2!} - i \\frac{x^3}{3!} + \\frac{x^4}{4!} + i \\frac{x^5}{5!} + \\ldots\n",
        "\\\\\n",
        "&= \\left(1 - \\frac{x^2}{2!} + \\frac{x^4}{4!} - \\frac{x^6}{6!} + \\ldots \\right)\n",
        "+ i \\left( x - \\frac{x^3}{3!} + \\frac{x^5}{5!} - \\frac{x^7}{7!} + \\ldots \\right)\n",
        "\\end{align}\n",
        ""
      ],
      "metadata": {
        "id": "RH23s24I3qDA"
      }
    },
    {
      "cell_type": "markdown",
      "source": [
        "Recall\n",
        "\n",
        "* $\\cos(x) = 1 - \\frac{x^2}{2!} + \\frac{x^4}{4!} - \\frac{x^6}{6!} + \\ldots$\n",
        "\n",
        "* $\\sin(x) = x - \\frac{x^3}{3!} + \\frac{x^5}{5!} - \\frac{x^7}{7!} + \\ldots$"
      ],
      "metadata": {
        "id": "0Sdy-mvw4p1b"
      }
    },
    {
      "cell_type": "markdown",
      "source": [
        "Hence,\n",
        "$e^{i x} = \\cos(x) + i \\sin(x)$\n",
        "\n",
        "\"Euler's formula\""
      ],
      "metadata": {
        "id": "vzs6MDV76Fxk"
      }
    },
    {
      "cell_type": "code",
      "source": [],
      "metadata": {
        "id": "ndOPDnCi3CC9"
      },
      "execution_count": null,
      "outputs": []
    }
  ]
}